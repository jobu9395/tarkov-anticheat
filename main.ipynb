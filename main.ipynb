{
 "cells": [
  {
   "cell_type": "code",
   "execution_count": null,
   "metadata": {},
   "outputs": [],
   "source": [
    "\"\"\"The purpose of this script is to show BSG how to create a batch ML model.  It will operate on plenty of assumptions, this is simply a template.  Ideally, this would be run daily (or more frequently) on player stats as a batch inference job.\"\"\"\n",
    "\"\"\"BSG can take that information and \"flag\" the player for further analysis.\"\"\"\n",
    "\"\"\"On top of the ML model on player statistics, it's reccomended to put raw physics-based heuristics.  For example, if a player's height exceeds some factor higher than the maximum height in the game, instant ban. Another example is if the player velocity exceeds terminal velocity in the game.\"\"\"\n",
    "\"\"\"Physics metadata can be recorded simply by keeping track of the max/min metrics in interest (speed, height, etc.).\"\"\""
   ]
  },
  {
   "cell_type": "code",
   "execution_count": 1,
   "metadata": {},
   "outputs": [],
   "source": [
    "\"\"\"First disclaimer: data is being randomly generated according to normal distributions within reasonable ranges based on first-hand knowledge of the game.\"\"\"\n",
    "# import libraries needed\n",
    "import numpy as np\n",
    "import pandas as pd\n",
    "import names"
   ]
  },
  {
   "cell_type": "code",
   "execution_count": 2,
   "metadata": {},
   "outputs": [],
   "source": [
    "NUM_PLAYERS = 100000"
   ]
  },
  {
   "cell_type": "code",
   "execution_count": 3,
   "metadata": {},
   "outputs": [],
   "source": [
    "# instantiate a player stats dicionary to store different randomly generated stats\n",
    "player_stats = {}"
   ]
  },
  {
   "cell_type": "code",
   "execution_count": 4,
   "metadata": {},
   "outputs": [],
   "source": [
    "names_list = []\n",
    "for i in range(NUM_PLAYERS):\n",
    "    names_list.append(names.get_full_name())"
   ]
  },
  {
   "cell_type": "code",
   "execution_count": 5,
   "metadata": {},
   "outputs": [],
   "source": [
    "player_stats[\"names\"] = names_list"
   ]
  },
  {
   "cell_type": "code",
   "execution_count": 6,
   "metadata": {},
   "outputs": [],
   "source": [
    "def int_continuous(lower_range_of_stat, upper_range_of_stat):\n",
    "    stat = np.random.randint(\n",
    "        lower_range_of_stat,\n",
    "        upper_range_of_stat,\n",
    "        size=NUM_PLAYERS,\n",
    "    )\n",
    "    stat = stat.T\n",
    "    return stat"
   ]
  },
  {
   "cell_type": "code",
   "execution_count": 7,
   "metadata": {},
   "outputs": [],
   "source": [
    "def gaussian(mu, sigma):\n",
    "    stat = np.random.normal(\n",
    "        mu,\n",
    "        sigma,\n",
    "        size=NUM_PLAYERS,\n",
    "    )\n",
    "    stat = stat.T\n",
    "    return stat"
   ]
  },
  {
   "cell_type": "code",
   "execution_count": 8,
   "metadata": {},
   "outputs": [],
   "source": [
    "def log_normal(mu, sigma):\n",
    "    stat = np.random.lognormal(\n",
    "        mu,\n",
    "        sigma,\n",
    "        size=NUM_PLAYERS,\n",
    "    )\n",
    "    stat = stat.T\n",
    "    return stat"
   ]
  },
  {
   "cell_type": "code",
   "execution_count": 9,
   "metadata": {},
   "outputs": [],
   "source": [
    "def binary_rng():\n",
    "    stat = np.random.choice([0, 1], size=NUM_PLAYERS)\n",
    "    stat = stat.T\n",
    "    return stat"
   ]
  },
  {
   "cell_type": "code",
   "execution_count": 10,
   "metadata": {},
   "outputs": [],
   "source": [
    "# TODO\n",
    "# model player account type (binary)\n",
    "# model player status (sherpa, dev, streamer, emissary)\n",
    "# model player level\n"
   ]
  },
  {
   "cell_type": "code",
   "execution_count": 11,
   "metadata": {},
   "outputs": [],
   "source": [
    "kd = gaussian(3.5, 1.5)\n",
    "player_stats[\"kd\"] = kd"
   ]
  },
  {
   "cell_type": "code",
   "execution_count": 12,
   "metadata": {},
   "outputs": [],
   "source": [
    "player_level = int_continuous(\n",
    "    1,\n",
    "    70\n",
    ")\n",
    "player_stats[\"player_level\"] = player_level"
   ]
  },
  {
   "cell_type": "code",
   "execution_count": 13,
   "metadata": {},
   "outputs": [],
   "source": [
    "stash_value = int_continuous(0, 10000000)\n",
    "player_stats[\"stash_value\"] = stash_value"
   ]
  },
  {
   "cell_type": "code",
   "execution_count": 14,
   "metadata": {},
   "outputs": [],
   "source": [
    "player_account_type = binary_rng()\n",
    "player_stats[\"account_type\"] = player_account_type"
   ]
  },
  {
   "cell_type": "code",
   "execution_count": 15,
   "metadata": {},
   "outputs": [],
   "source": [
    "# survival_rate = np.random.rand(NUM_PLAYERS)\n",
    "survival_rate = gaussian(.3, .1)\n",
    "player_stats[\"survival_rate\"] = survival_rate\n"
   ]
  },
  {
   "cell_type": "code",
   "execution_count": 16,
   "metadata": {},
   "outputs": [],
   "source": [
    "avg_life_span = gaussian(18, 7)\n",
    "player_stats[\"avg_life_span\"] = avg_life_span"
   ]
  },
  {
   "cell_type": "code",
   "execution_count": 17,
   "metadata": {},
   "outputs": [],
   "source": [
    "account_lifetime = gaussian(500, 150)\n",
    "player_stats[\"account_lifetime\"] = account_lifetime"
   ]
  },
  {
   "cell_type": "code",
   "execution_count": 18,
   "metadata": {},
   "outputs": [],
   "source": [
    "longest_streak = gaussian(7, 2)\n",
    "player_stats[\"longest_streak\"] = longest_streak"
   ]
  },
  {
   "cell_type": "code",
   "execution_count": 73,
   "metadata": {},
   "outputs": [],
   "source": [
    "df = pd.DataFrame.from_dict(player_stats)"
   ]
  },
  {
   "cell_type": "code",
   "execution_count": 74,
   "metadata": {},
   "outputs": [
    {
     "data": {
      "text/plain": [
       "(array([1.000e+00, 1.000e+00, 1.000e+00, 0.000e+00, 2.000e+00, 2.000e+00,\n",
       "        2.000e+00, 1.000e+01, 5.000e+00, 5.000e+00, 2.100e+01, 1.700e+01,\n",
       "        2.100e+01, 3.200e+01, 3.500e+01, 6.700e+01, 7.700e+01, 9.000e+01,\n",
       "        1.300e+02, 1.530e+02, 1.440e+02, 2.220e+02, 2.860e+02, 3.320e+02,\n",
       "        4.030e+02, 4.610e+02, 5.270e+02, 6.570e+02, 7.530e+02, 8.620e+02,\n",
       "        1.030e+03, 1.172e+03, 1.342e+03, 1.495e+03, 1.752e+03, 1.836e+03,\n",
       "        2.064e+03, 2.277e+03, 2.422e+03, 2.593e+03, 2.746e+03, 2.884e+03,\n",
       "        3.039e+03, 3.199e+03, 3.376e+03, 3.354e+03, 3.357e+03, 3.504e+03,\n",
       "        3.376e+03, 3.475e+03, 3.487e+03, 3.454e+03, 3.338e+03, 3.145e+03,\n",
       "        3.040e+03, 2.853e+03, 2.709e+03, 2.611e+03, 2.378e+03, 2.142e+03,\n",
       "        2.013e+03, 1.805e+03, 1.597e+03, 1.409e+03, 1.241e+03, 1.151e+03,\n",
       "        9.950e+02, 8.250e+02, 7.420e+02, 6.020e+02, 5.470e+02, 4.570e+02,\n",
       "        3.660e+02, 2.900e+02, 2.490e+02, 1.780e+02, 1.700e+02, 1.320e+02,\n",
       "        1.080e+02, 9.100e+01, 5.600e+01, 5.800e+01, 4.300e+01, 2.400e+01,\n",
       "        2.300e+01, 1.000e+01, 1.200e+01, 5.000e+00, 5.000e+00, 1.200e+01,\n",
       "        4.000e+00, 5.000e+00, 0.000e+00, 2.000e+00, 2.000e+00, 0.000e+00,\n",
       "        1.000e+00, 0.000e+00, 0.000e+00, 1.000e+00]),\n",
       " array([-2.89771186, -2.76531404, -2.63291622, -2.5005184 , -2.36812058,\n",
       "        -2.23572276, -2.10332494, -1.97092712, -1.8385293 , -1.70613148,\n",
       "        -1.57373366, -1.44133583, -1.30893801, -1.17654019, -1.04414237,\n",
       "        -0.91174455, -0.77934673, -0.64694891, -0.51455109, -0.38215327,\n",
       "        -0.24975545, -0.11735763,  0.01504019,  0.14743801,  0.27983584,\n",
       "         0.41223366,  0.54463148,  0.6770293 ,  0.80942712,  0.94182494,\n",
       "         1.07422276,  1.20662058,  1.3390184 ,  1.47141622,  1.60381404,\n",
       "         1.73621186,  1.86860968,  2.00100751,  2.13340533,  2.26580315,\n",
       "         2.39820097,  2.53059879,  2.66299661,  2.79539443,  2.92779225,\n",
       "         3.06019007,  3.19258789,  3.32498571,  3.45738353,  3.58978135,\n",
       "         3.72217918,  3.854577  ,  3.98697482,  4.11937264,  4.25177046,\n",
       "         4.38416828,  4.5165661 ,  4.64896392,  4.78136174,  4.91375956,\n",
       "         5.04615738,  5.1785552 ,  5.31095302,  5.44335085,  5.57574867,\n",
       "         5.70814649,  5.84054431,  5.97294213,  6.10533995,  6.23773777,\n",
       "         6.37013559,  6.50253341,  6.63493123,  6.76732905,  6.89972687,\n",
       "         7.03212469,  7.16452252,  7.29692034,  7.42931816,  7.56171598,\n",
       "         7.6941138 ,  7.82651162,  7.95890944,  8.09130726,  8.22370508,\n",
       "         8.3561029 ,  8.48850072,  8.62089854,  8.75329637,  8.88569419,\n",
       "         9.01809201,  9.15048983,  9.28288765,  9.41528547,  9.54768329,\n",
       "         9.68008111,  9.81247893,  9.94487675, 10.07727457, 10.20967239,\n",
       "        10.34207021]),\n",
       " <BarContainer object of 100 artists>)"
      ]
     },
     "execution_count": 74,
     "metadata": {},
     "output_type": "execute_result"
    },
    {
     "data": {
      "image/png": "[encoded data removed]",
      "text/plain": [
       "<Figure size 640x480 with 1 Axes>"
      ]
     },
     "metadata": {},
     "output_type": "display_data"
    }
   ],
   "source": [
    "import matplotlib.pyplot as plt\n",
    "plt.hist(\n",
    "    kd, \n",
    "    bins=100,\n",
    ")"
   ]
  },
  {
   "cell_type": "code",
   "execution_count": 75,
   "metadata": {},
   "outputs": [
    {
     "data": {
      "text/plain": [
       "(array([ 988., 1028., 1010.,  998., 1048., 1018., 1067., 1015.,  966.,\n",
       "        1024., 1003.,  970., 1018.,  956., 1068., 1043.,  950.,  959.,\n",
       "        1008.,  984., 1000.,  994.,  987., 1000., 1033., 1072., 1065.,\n",
       "        1005., 1005.,  993.,  993.,  918.,  942., 1020., 1015.,  962.,\n",
       "        1008., 1025.,  960.,  883.,  975., 1026., 1079., 1003.,  996.,\n",
       "         979., 1039.,  992.,  993.,  973.,  993.,  985.,  991.,  988.,\n",
       "         998., 1023., 1034.,  946.,  992.,  981.,  967., 1008., 1047.,\n",
       "         995., 1020., 1014., 1036., 1008.,  946.,  976.,  959., 1046.,\n",
       "        1010., 1015., 1004.,  954.,  993.,  983., 1012., 1001.,  980.,\n",
       "         994.,  994., 1016.,  995., 1024.,  950., 1008.,  979.,  979.,\n",
       "        1043., 1015., 1034., 1028.,  953., 1027., 1036.,  979.,  995.,\n",
       "         990.]),\n",
       " array([1.91000000e+02, 1.00188560e+05, 2.00186120e+05, 3.00183680e+05,\n",
       "        4.00181240e+05, 5.00178800e+05, 6.00176360e+05, 7.00173920e+05,\n",
       "        8.00171480e+05, 9.00169040e+05, 1.00016660e+06, 1.10016416e+06,\n",
       "        1.20016172e+06, 1.30015928e+06, 1.40015684e+06, 1.50015440e+06,\n",
       "        1.60015196e+06, 1.70014952e+06, 1.80014708e+06, 1.90014464e+06,\n",
       "        2.00014220e+06, 2.10013976e+06, 2.20013732e+06, 2.30013488e+06,\n",
       "        2.40013244e+06, 2.50013000e+06, 2.60012756e+06, 2.70012512e+06,\n",
       "        2.80012268e+06, 2.90012024e+06, 3.00011780e+06, 3.10011536e+06,\n",
       "        3.20011292e+06, 3.30011048e+06, 3.40010804e+06, 3.50010560e+06,\n",
       "        3.60010316e+06, 3.70010072e+06, 3.80009828e+06, 3.90009584e+06,\n",
       "        4.00009340e+06, 4.10009096e+06, 4.20008852e+06, 4.30008608e+06,\n",
       "        4.40008364e+06, 4.50008120e+06, 4.60007876e+06, 4.70007632e+06,\n",
       "        4.80007388e+06, 4.90007144e+06, 5.00006900e+06, 5.10006656e+06,\n",
       "        5.20006412e+06, 5.30006168e+06, 5.40005924e+06, 5.50005680e+06,\n",
       "        5.60005436e+06, 5.70005192e+06, 5.80004948e+06, 5.90004704e+06,\n",
       "        6.00004460e+06, 6.10004216e+06, 6.20003972e+06, 6.30003728e+06,\n",
       "        6.40003484e+06, 6.50003240e+06, 6.60002996e+06, 6.70002752e+06,\n",
       "        6.80002508e+06, 6.90002264e+06, 7.00002020e+06, 7.10001776e+06,\n",
       "        7.20001532e+06, 7.30001288e+06, 7.40001044e+06, 7.50000800e+06,\n",
       "        7.60000556e+06, 7.70000312e+06, 7.80000068e+06, 7.89999824e+06,\n",
       "        7.99999580e+06, 8.09999336e+06, 8.19999092e+06, 8.29998848e+06,\n",
       "        8.39998604e+06, 8.49998360e+06, 8.59998116e+06, 8.69997872e+06,\n",
       "        8.79997628e+06, 8.89997384e+06, 8.99997140e+06, 9.09996896e+06,\n",
       "        9.19996652e+06, 9.29996408e+06, 9.39996164e+06, 9.49995920e+06,\n",
       "        9.59995676e+06, 9.69995432e+06, 9.79995188e+06, 9.89994944e+06,\n",
       "        9.99994700e+06]),\n",
       " <BarContainer object of 100 artists>)"
      ]
     },
     "execution_count": 75,
     "metadata": {},
     "output_type": "execute_result"
    },
    {
     "data": {
      "image/png": "[encoded data removed]",
      "text/plain": [
       "<Figure size 640x480 with 1 Axes>"
      ]
     },
     "metadata": {},
     "output_type": "display_data"
    }
   ],
   "source": [
    "plt.hist(\n",
    "    stash_value, \n",
    "    bins=100,\n",
    ")"
   ]
  },
  {
   "cell_type": "code",
   "execution_count": 76,
   "metadata": {},
   "outputs": [
    {
     "data": {
      "text/plain": [
       "(array([1.000e+00, 1.000e+00, 1.000e+00, 1.000e+00, 3.000e+00, 3.000e+00,\n",
       "        0.000e+00, 4.000e+00, 4.000e+00, 3.000e+00, 2.000e+00, 9.000e+00,\n",
       "        1.400e+01, 2.500e+01, 2.400e+01, 2.600e+01, 3.800e+01, 4.700e+01,\n",
       "        6.500e+01, 8.000e+01, 1.040e+02, 1.060e+02, 1.640e+02, 1.980e+02,\n",
       "        2.760e+02, 3.000e+02, 3.750e+02, 4.350e+02, 5.250e+02, 5.900e+02,\n",
       "        7.300e+02, 8.730e+02, 1.008e+03, 1.076e+03, 1.354e+03, 1.483e+03,\n",
       "        1.662e+03, 1.780e+03, 2.026e+03, 2.137e+03, 2.376e+03, 2.555e+03,\n",
       "        2.916e+03, 2.905e+03, 3.056e+03, 3.336e+03, 3.308e+03, 3.474e+03,\n",
       "        3.498e+03, 3.431e+03, 3.441e+03, 3.556e+03, 3.582e+03, 3.385e+03,\n",
       "        3.322e+03, 3.191e+03, 3.072e+03, 2.918e+03, 2.740e+03, 2.561e+03,\n",
       "        2.320e+03, 2.104e+03, 1.964e+03, 1.857e+03, 1.670e+03, 1.477e+03,\n",
       "        1.307e+03, 1.126e+03, 9.920e+02, 8.240e+02, 7.630e+02, 6.030e+02,\n",
       "        5.750e+02, 4.380e+02, 3.910e+02, 3.090e+02, 2.410e+02, 1.890e+02,\n",
       "        1.460e+02, 1.090e+02, 9.600e+01, 7.300e+01, 5.900e+01, 5.300e+01,\n",
       "        3.400e+01, 2.500e+01, 2.500e+01, 2.200e+01, 7.000e+00, 6.000e+00,\n",
       "        7.000e+00, 3.000e+00, 3.000e+00, 2.000e+00, 2.000e+00, 0.000e+00,\n",
       "        1.000e+00, 0.000e+00, 0.000e+00, 1.000e+00]),\n",
       " array([-1.96010798e+00, -1.78257986e+00, -1.60505173e+00, -1.42752361e+00,\n",
       "        -1.24999548e+00, -1.07246736e+00, -8.94939233e-01, -7.17411109e-01,\n",
       "        -5.39882984e-01, -3.62354860e-01, -1.84826735e-01, -7.29861077e-03,\n",
       "         1.70229514e-01,  3.47757638e-01,  5.25285763e-01,  7.02813887e-01,\n",
       "         8.80342012e-01,  1.05787014e+00,  1.23539826e+00,  1.41292639e+00,\n",
       "         1.59045451e+00,  1.76798263e+00,  1.94551076e+00,  2.12303888e+00,\n",
       "         2.30056701e+00,  2.47809513e+00,  2.65562326e+00,  2.83315138e+00,\n",
       "         3.01067951e+00,  3.18820763e+00,  3.36573576e+00,  3.54326388e+00,\n",
       "         3.72079200e+00,  3.89832013e+00,  4.07584825e+00,  4.25337638e+00,\n",
       "         4.43090450e+00,  4.60843263e+00,  4.78596075e+00,  4.96348888e+00,\n",
       "         5.14101700e+00,  5.31854512e+00,  5.49607325e+00,  5.67360137e+00,\n",
       "         5.85112950e+00,  6.02865762e+00,  6.20618575e+00,  6.38371387e+00,\n",
       "         6.56124200e+00,  6.73877012e+00,  6.91629825e+00,  7.09382637e+00,\n",
       "         7.27135449e+00,  7.44888262e+00,  7.62641074e+00,  7.80393887e+00,\n",
       "         7.98146699e+00,  8.15899512e+00,  8.33652324e+00,  8.51405137e+00,\n",
       "         8.69157949e+00,  8.86910762e+00,  9.04663574e+00,  9.22416386e+00,\n",
       "         9.40169199e+00,  9.57922011e+00,  9.75674824e+00,  9.93427636e+00,\n",
       "         1.01118045e+01,  1.02893326e+01,  1.04668607e+01,  1.06443889e+01,\n",
       "         1.08219170e+01,  1.09994451e+01,  1.11769732e+01,  1.13545014e+01,\n",
       "         1.15320295e+01,  1.17095576e+01,  1.18870857e+01,  1.20646139e+01,\n",
       "         1.22421420e+01,  1.24196701e+01,  1.25971982e+01,  1.27747264e+01,\n",
       "         1.29522545e+01,  1.31297826e+01,  1.33073107e+01,  1.34848389e+01,\n",
       "         1.36623670e+01,  1.38398951e+01,  1.40174232e+01,  1.41949514e+01,\n",
       "         1.43724795e+01,  1.45500076e+01,  1.47275357e+01,  1.49050638e+01,\n",
       "         1.50825920e+01,  1.52601201e+01,  1.54376482e+01,  1.56151763e+01,\n",
       "         1.57927045e+01]),\n",
       " <BarContainer object of 100 artists>)"
      ]
     },
     "execution_count": 76,
     "metadata": {},
     "output_type": "execute_result"
    },
    {
     "data": {
      "image/png": "[encoded data removed]",
      "text/plain": [
       "<Figure size 640x480 with 1 Axes>"
      ]
     },
     "metadata": {},
     "output_type": "display_data"
    }
   ],
   "source": [
    "plt.hist(\n",
    "    longest_streak, \n",
    "    bins=100,\n",
    ")"
   ]
  },
  {
   "cell_type": "code",
   "execution_count": 77,
   "metadata": {},
   "outputs": [
    {
     "data": {
      "text/html": [
       "<div>\n",
       "<style scoped>\n",
       "    .dataframe tbody tr th:only-of-type {\n",
       "        vertical-align: middle;\n",
       "    }\n",
       "\n",
       "    .dataframe tbody tr th {\n",
       "        vertical-align: top;\n",
       "    }\n",
       "\n",
       "    .dataframe thead th {\n",
       "        text-align: right;\n",
       "    }\n",
       "</style>\n",
       "<table border=\"1\" class=\"dataframe\">\n",
       "  <thead>\n",
       "    <tr style=\"text-align: right;\">\n",
       "      <th></th>\n",
       "      <th>names</th>\n",
       "      <th>kd</th>\n",
       "      <th>player_level</th>\n",
       "      <th>stash_value</th>\n",
       "      <th>account_type</th>\n",
       "      <th>survival_rate</th>\n",
       "      <th>avg_life_span</th>\n",
       "      <th>account_lifetime</th>\n",
       "      <th>longest_streak</th>\n",
       "    </tr>\n",
       "  </thead>\n",
       "  <tbody>\n",
       "    <tr>\n",
       "      <th>0</th>\n",
       "      <td>Norma Chacon</td>\n",
       "      <td>4.184169</td>\n",
       "      <td>65</td>\n",
       "      <td>7914470</td>\n",
       "      <td>1</td>\n",
       "      <td>0.250373</td>\n",
       "      <td>14.449391</td>\n",
       "      <td>684.890752</td>\n",
       "      <td>6.957507</td>\n",
       "    </tr>\n",
       "    <tr>\n",
       "      <th>1</th>\n",
       "      <td>William Turner</td>\n",
       "      <td>0.833718</td>\n",
       "      <td>10</td>\n",
       "      <td>7157493</td>\n",
       "      <td>1</td>\n",
       "      <td>0.219045</td>\n",
       "      <td>19.217771</td>\n",
       "      <td>427.932404</td>\n",
       "      <td>7.063286</td>\n",
       "    </tr>\n",
       "    <tr>\n",
       "      <th>2</th>\n",
       "      <td>Daisy Arnett</td>\n",
       "      <td>3.948871</td>\n",
       "      <td>65</td>\n",
       "      <td>103392</td>\n",
       "      <td>1</td>\n",
       "      <td>0.454564</td>\n",
       "      <td>23.721767</td>\n",
       "      <td>551.239680</td>\n",
       "      <td>6.540123</td>\n",
       "    </tr>\n",
       "    <tr>\n",
       "      <th>3</th>\n",
       "      <td>Carmen Lopez</td>\n",
       "      <td>3.726389</td>\n",
       "      <td>33</td>\n",
       "      <td>9346378</td>\n",
       "      <td>0</td>\n",
       "      <td>0.327423</td>\n",
       "      <td>8.750901</td>\n",
       "      <td>432.762564</td>\n",
       "      <td>6.179769</td>\n",
       "    </tr>\n",
       "    <tr>\n",
       "      <th>4</th>\n",
       "      <td>Mark Raebel</td>\n",
       "      <td>4.166371</td>\n",
       "      <td>62</td>\n",
       "      <td>4887097</td>\n",
       "      <td>1</td>\n",
       "      <td>0.228763</td>\n",
       "      <td>16.028433</td>\n",
       "      <td>650.547363</td>\n",
       "      <td>8.877023</td>\n",
       "    </tr>\n",
       "  </tbody>\n",
       "</table>\n",
       "</div>"
      ],
      "text/plain": [
       "            names        kd  player_level  stash_value  account_type  \\\n",
       "0    Norma Chacon  4.184169            65      7914470             1   \n",
       "1  William Turner  0.833718            10      7157493             1   \n",
       "2    Daisy Arnett  3.948871            65       103392             1   \n",
       "3    Carmen Lopez  3.726389            33      9346378             0   \n",
       "4     Mark Raebel  4.166371            62      4887097             1   \n",
       "\n",
       "   survival_rate  avg_life_span  account_lifetime  longest_streak  \n",
       "0       0.250373      14.449391        684.890752        6.957507  \n",
       "1       0.219045      19.217771        427.932404        7.063286  \n",
       "2       0.454564      23.721767        551.239680        6.540123  \n",
       "3       0.327423       8.750901        432.762564        6.179769  \n",
       "4       0.228763      16.028433        650.547363        8.877023  "
      ]
     },
     "execution_count": 77,
     "metadata": {},
     "output_type": "execute_result"
    }
   ],
   "source": [
    "df.head()"
   ]
  },
  {
   "cell_type": "code",
   "execution_count": 78,
   "metadata": {},
   "outputs": [],
   "source": [
    "df.to_csv(\"test.csv\")"
   ]
  },
  {
   "cell_type": "code",
   "execution_count": 79,
   "metadata": {},
   "outputs": [],
   "source": [
    "# df = df.drop([\"names\"], axis=1)"
   ]
  },
  {
   "cell_type": "code",
   "execution_count": 80,
   "metadata": {},
   "outputs": [],
   "source": [
    "from sklearn.model_selection import train_test_split\n",
    "\n",
    "X_train, X_test, X_train_names, X_test_names = train_test_split(\n",
    "    df.drop([\"names\"], axis=1),\n",
    "    df['names'],\n",
    "    test_size = 0.2,\n",
    "    random_state=0,\n",
    ")"
   ]
  },
  {
   "cell_type": "code",
   "execution_count": 115,
   "metadata": {},
   "outputs": [
    {
     "name": "stderr",
     "output_type": "stream",
     "text": [
      "c:\\Users\\jburd\\miniconda3\\lib\\site-packages\\sklearn\\cluster\\_kmeans.py:870: FutureWarning: The default value of `n_init` will change from 10 to 'auto' in 1.4. Set the value of `n_init` explicitly to suppress the warning\n",
      "  warnings.warn(\n"
     ]
    },
    {
     "data": {
      "text/html": [
       "<style>#sk-container-id-4 {color: black;background-color: white;}#sk-container-id-4 pre{padding: 0;}#sk-container-id-4 div.sk-toggleable {background-color: white;}#sk-container-id-4 label.sk-toggleable__label {cursor: pointer;display: block;width: 100%;margin-bottom: 0;padding: 0.3em;box-sizing: border-box;text-align: center;}#sk-container-id-4 label.sk-toggleable__label-arrow:before {content: \"▸\";float: left;margin-right: 0.25em;color: #696969;}#sk-container-id-4 label.sk-toggleable__label-arrow:hover:before {color: black;}#sk-container-id-4 div.sk-estimator:hover label.sk-toggleable__label-arrow:before {color: black;}#sk-container-id-4 div.sk-toggleable__content {max-height: 0;max-width: 0;overflow: hidden;text-align: left;background-color: #f0f8ff;}#sk-container-id-4 div.sk-toggleable__content pre {margin: 0.2em;color: black;border-radius: 0.25em;background-color: #f0f8ff;}#sk-container-id-4 input.sk-toggleable__control:checked~div.sk-toggleable__content {max-height: 200px;max-width: 100%;overflow: auto;}#sk-container-id-4 input.sk-toggleable__control:checked~label.sk-toggleable__label-arrow:before {content: \"▾\";}#sk-container-id-4 div.sk-estimator input.sk-toggleable__control:checked~label.sk-toggleable__label {background-color: #d4ebff;}#sk-container-id-4 div.sk-label input.sk-toggleable__control:checked~label.sk-toggleable__label {background-color: #d4ebff;}#sk-container-id-4 input.sk-hidden--visually {border: 0;clip: rect(1px 1px 1px 1px);clip: rect(1px, 1px, 1px, 1px);height: 1px;margin: -1px;overflow: hidden;padding: 0;position: absolute;width: 1px;}#sk-container-id-4 div.sk-estimator {font-family: monospace;background-color: #f0f8ff;border: 1px dotted black;border-radius: 0.25em;box-sizing: border-box;margin-bottom: 0.5em;}#sk-container-id-4 div.sk-estimator:hover {background-color: #d4ebff;}#sk-container-id-4 div.sk-parallel-item::after {content: \"\";width: 100%;border-bottom: 1px solid gray;flex-grow: 1;}#sk-container-id-4 div.sk-label:hover label.sk-toggleable__label {background-color: #d4ebff;}#sk-container-id-4 div.sk-serial::before {content: \"\";position: absolute;border-left: 1px solid gray;box-sizing: border-box;top: 0;bottom: 0;left: 50%;z-index: 0;}#sk-container-id-4 div.sk-serial {display: flex;flex-direction: column;align-items: center;background-color: white;padding-right: 0.2em;padding-left: 0.2em;position: relative;}#sk-container-id-4 div.sk-item {position: relative;z-index: 1;}#sk-container-id-4 div.sk-parallel {display: flex;align-items: stretch;justify-content: center;background-color: white;position: relative;}#sk-container-id-4 div.sk-item::before, #sk-container-id-4 div.sk-parallel-item::before {content: \"\";position: absolute;border-left: 1px solid gray;box-sizing: border-box;top: 0;bottom: 0;left: 50%;z-index: -1;}#sk-container-id-4 div.sk-parallel-item {display: flex;flex-direction: column;z-index: 1;position: relative;background-color: white;}#sk-container-id-4 div.sk-parallel-item:first-child::after {align-self: flex-end;width: 50%;}#sk-container-id-4 div.sk-parallel-item:last-child::after {align-self: flex-start;width: 50%;}#sk-container-id-4 div.sk-parallel-item:only-child::after {width: 0;}#sk-container-id-4 div.sk-dashed-wrapped {border: 1px dashed gray;margin: 0 0.4em 0.5em 0.4em;box-sizing: border-box;padding-bottom: 0.4em;background-color: white;}#sk-container-id-4 div.sk-label label {font-family: monospace;font-weight: bold;display: inline-block;line-height: 1.2em;}#sk-container-id-4 div.sk-label-container {text-align: center;}#sk-container-id-4 div.sk-container {/* jupyter's `normalize.less` sets `[hidden] { display: none; }` but bootstrap.min.css set `[hidden] { display: none !important; }` so we also need the `!important` here to be able to override the default hidden behavior on the sphinx rendered scikit-learn.org. See: https://github.com/scikit-learn/scikit-learn/issues/21755 */display: inline-block !important;position: relative;}#sk-container-id-4 div.sk-text-repr-fallback {display: none;}</style><div id=\"sk-container-id-4\" class=\"sk-top-container\"><div class=\"sk-text-repr-fallback\"><pre>KMeans(n_clusters=6)</pre><b>In a Jupyter environment, please rerun this cell to show the HTML representation or trust the notebook. <br />On GitHub, the HTML representation is unable to render, please try loading this page with nbviewer.org.</b></div><div class=\"sk-container\" hidden><div class=\"sk-item\"><div class=\"sk-estimator sk-toggleable\"><input class=\"sk-toggleable__control sk-hidden--visually\" id=\"sk-estimator-id-4\" type=\"checkbox\" checked><label for=\"sk-estimator-id-4\" class=\"sk-toggleable__label sk-toggleable__label-arrow\">KMeans</label><div class=\"sk-toggleable__content\"><pre>KMeans(n_clusters=6)</pre></div></div></div></div></div>"
      ],
      "text/plain": [
       "KMeans(n_clusters=6)"
      ]
     },
     "execution_count": 115,
     "metadata": {},
     "output_type": "execute_result"
    }
   ],
   "source": [
    "from sklearn.cluster import KMeans\n",
    "kmeans = KMeans(\n",
    "    n_clusters=6\n",
    ")\n",
    "kmeans.fit(X_train)"
   ]
  },
  {
   "cell_type": "code",
   "execution_count": 116,
   "metadata": {},
   "outputs": [],
   "source": [
    "# headers      kd\t        player_level  stash_value\t account_type\tsurvival_rate\tavg_life_span\taccount_lifetime\tlongest_streak\n",
    "# sample data  4.184169112\t65\t          7914470\t     1\t             0.250373286\t14.44939054\t    684.8907521\t         6.957507089\n"
   ]
  },
  {
   "cell_type": "code",
   "execution_count": 117,
   "metadata": {},
   "outputs": [],
   "source": [
    "# test_payload = np.array([4.184169112, 65, 7914470, 1, 0.250373286, 14.44939054, 684.8907521, 6.957507089])\n",
    "# np.reshape(test_payload, (0,8))\n",
    "# test_payload.shape"
   ]
  },
  {
   "cell_type": "code",
   "execution_count": 118,
   "metadata": {},
   "outputs": [
    {
     "data": {
      "text/plain": [
       "(20000, 8)"
      ]
     },
     "execution_count": 118,
     "metadata": {},
     "output_type": "execute_result"
    }
   ],
   "source": [
    "X_test.shape"
   ]
  },
  {
   "cell_type": "code",
   "execution_count": 119,
   "metadata": {},
   "outputs": [
    {
     "data": {
      "text/plain": [
       "(20000,)"
      ]
     },
     "execution_count": 119,
     "metadata": {},
     "output_type": "execute_result"
    }
   ],
   "source": [
    "predictions = kmeans.predict(X_test)\n",
    "predictions_df = pd.DataFrame(predictions)\n",
    "predictions_df.to_csv('predictions.csv')\n",
    "\n",
    "X_test_names.shape"
   ]
  },
  {
   "cell_type": "code",
   "execution_count": 120,
   "metadata": {},
   "outputs": [],
   "source": [
    "X_test_names = np.array(X_test_names)"
   ]
  },
  {
   "cell_type": "code",
   "execution_count": 121,
   "metadata": {},
   "outputs": [
    {
     "data": {
      "text/plain": [
       "numpy.ndarray"
      ]
     },
     "execution_count": 121,
     "metadata": {},
     "output_type": "execute_result"
    }
   ],
   "source": [
    "type(X_test_names)"
   ]
  },
  {
   "cell_type": "code",
   "execution_count": 122,
   "metadata": {},
   "outputs": [
    {
     "data": {
      "text/plain": [
       "(20000, 2)"
      ]
     },
     "execution_count": 122,
     "metadata": {},
     "output_type": "execute_result"
    }
   ],
   "source": [
    "joined_data = np.vstack([predictions, X_test_names])\n",
    "joined_data = joined_data.T\n",
    "joined_data.shape"
   ]
  },
  {
   "cell_type": "code",
   "execution_count": 123,
   "metadata": {},
   "outputs": [
    {
     "data": {
      "text/html": [
       "<div>\n",
       "<style scoped>\n",
       "    .dataframe tbody tr th:only-of-type {\n",
       "        vertical-align: middle;\n",
       "    }\n",
       "\n",
       "    .dataframe tbody tr th {\n",
       "        vertical-align: top;\n",
       "    }\n",
       "\n",
       "    .dataframe thead th {\n",
       "        text-align: right;\n",
       "    }\n",
       "</style>\n",
       "<table border=\"1\" class=\"dataframe\">\n",
       "  <thead>\n",
       "    <tr style=\"text-align: right;\">\n",
       "      <th></th>\n",
       "      <th>0</th>\n",
       "      <th>1</th>\n",
       "    </tr>\n",
       "  </thead>\n",
       "  <tbody>\n",
       "    <tr>\n",
       "      <th>0</th>\n",
       "      <td>0</td>\n",
       "      <td>Rita Matthews</td>\n",
       "    </tr>\n",
       "    <tr>\n",
       "      <th>1</th>\n",
       "      <td>0</td>\n",
       "      <td>Lisa Lucchese</td>\n",
       "    </tr>\n",
       "    <tr>\n",
       "      <th>2</th>\n",
       "      <td>2</td>\n",
       "      <td>Stephanie Mchaney</td>\n",
       "    </tr>\n",
       "    <tr>\n",
       "      <th>3</th>\n",
       "      <td>0</td>\n",
       "      <td>Ella Pendarvis</td>\n",
       "    </tr>\n",
       "    <tr>\n",
       "      <th>4</th>\n",
       "      <td>4</td>\n",
       "      <td>Sharon Young</td>\n",
       "    </tr>\n",
       "  </tbody>\n",
       "</table>\n",
       "</div>"
      ],
      "text/plain": [
       "   0                  1\n",
       "0  0      Rita Matthews\n",
       "1  0      Lisa Lucchese\n",
       "2  2  Stephanie Mchaney\n",
       "3  0     Ella Pendarvis\n",
       "4  4       Sharon Young"
      ]
     },
     "execution_count": 123,
     "metadata": {},
     "output_type": "execute_result"
    }
   ],
   "source": [
    "joined_data_df = pd.DataFrame(joined_data)\n",
    "joined_data_df.head()"
   ]
  },
  {
   "cell_type": "code",
   "execution_count": 124,
   "metadata": {},
   "outputs": [],
   "source": [
    "joined_data_df.to_csv('labeled_preds.csv')"
   ]
  }
 ],
 "metadata": {
  "kernelspec": {
   "display_name": "base",
   "language": "python",
   "name": "python3"
  },
  "language_info": {
   "codemirror_mode": {
    "name": "ipython",
    "version": 3
   },
   "file_extension": ".py",
   "mimetype": "text/x-python",
   "name": "python",
   "nbconvert_exporter": "python",
   "pygments_lexer": "ipython3",
   "version": "3.9.5"
  },
  "orig_nbformat": 4,
  "vscode": {
   "interpreter": {
    "hash": "2295576ccd3fb1637d0dabec70fb22874c9152d245d14fa0c36fb535d5f3d6c5"
   }
  }
 },
 "nbformat": 4,
 "nbformat_minor": 2
}
